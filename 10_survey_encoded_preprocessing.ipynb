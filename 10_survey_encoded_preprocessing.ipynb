{
 "cells": [
  {
   "cell_type": "markdown",
   "id": "bf3b606e",
   "metadata": {},
   "source": [
    "# Final Custom Survey Data Preprocessing"
   ]
  },
  {
   "cell_type": "code",
   "execution_count": null,
   "id": "f8fa8b6b",
   "metadata": {},
   "outputs": [],
   "source": [
    "import pandas as pd\n",
    "import numpy as np\n",
    "from sklearn.preprocessing import MinMaxScaler"
   ]
  },
  {
   "cell_type": "code",
   "execution_count": null,
   "id": "a828843d",
   "metadata": {},
   "outputs": [],
   "source": [
    "df_raw = pd.read_csv('/mnt/data/survey.csv')"
   ]
  },
  {
   "cell_type": "code",
   "execution_count": null,
   "id": "4e85f108",
   "metadata": {},
   "outputs": [],
   "source": [
    "df = df_raw.copy()\n",
    "\n",
    "# 결측치 처리\n",
    "df['self_employed'].fillna(df['self_employed'].mode()[0], inplace=True)\n",
    "df['work_interfere'].fillna(df['work_interfere'].mode()[0], inplace=True)\n",
    "\n",
    "# 불필요한 열 제거\n",
    "df.drop(columns=['state', 'comments', 'Timestamp'], inplace=True)\n",
    "\n",
    "# Age 이상치 처리\n",
    "valid_age = df[(df['Age'] > 0) & (df['Age'] < 100)]['Age']\n",
    "mean_age = int(valid_age.mean())\n",
    "df.loc[(df['Age'] <= 0) | (df['Age'] > 100), 'Age'] = mean_age\n",
    "\n",
    "# Gender 재분류\n",
    "# print(df['Gender'].value_counts())\n",
    "df['Gender'] = df['Gender'].str.lower().str.strip()\n",
    "df['Gender'] = df['Gender'].replace({\n",
    "    'male': 'male', 'm': 'male', 'man': 'male',\n",
    "    'female': 'female', 'f': 'female', 'woman': 'female',\n",
    "    'trans-female': 'female', 'trans woman': 'female',\n",
    "    'trans male': 'male', 'trans man': 'male',\n",
    "    'genderqueer': 'others', 'agender': 'others', 'non-binary': 'others',\n",
    "    'other': 'others', 'none': 'others'\n",
    "})\n",
    "df['Gender'] = df['Gender'].apply(lambda x: x if x in ['male', 'female'] else 'others')\n",
    "\n",
    "# 파생 변수\n",
    "df['is_us'] = df_raw['Country'].apply(lambda x: 1 if x == 'United States' else 0)\n",
    "df.drop(columns=['Country'], inplace=True)\n",
    "\n",
    "# 변수 분류\n",
    "label_encode_cols = []\n",
    "onehot_cols = []\n",
    "\n",
    "for col in df.columns:\n",
    "    if df[col].dtype == 'object' and col != 'Gender':\n",
    "        n_unique = df[col].nunique()\n",
    "        if n_unique > 2:\n",
    "            label_encode_cols.append(col)\n",
    "        elif n_unique == 2:\n",
    "            onehot_cols.append(col)\n",
    "\n",
    "# Label Encoding + MinMax\n",
    "ordinal_label_maps = {}\n",
    "for col in label_encode_cols:\n",
    "    labels = df[col].dropna().unique().tolist()\n",
    "    label_map = {val: i for i, val in enumerate(sorted(labels))}\n",
    "    ordinal_label_maps[col] = label_map\n",
    "    df[col] = df[col].map(label_map)\n",
    "    df[[col]] = MinMaxScaler().fit_transform(df[[col]])\n",
    "\n",
    "# One-hot Encoding\n",
    "df = pd.get_dummies(df, columns=onehot_cols + ['Gender'])\n",
    "\n",
    "# Age 정규화\n",
    "df[['Age']] = MinMaxScaler().fit_transform(df[['Age']])\n",
    "\n",
    "# 저장\n",
    "df.to_csv('survey_final_custom_encoded.csv', index=False)"
   ]
  }
 ],
 "metadata": {
  "language_info": {
   "name": "python"
  }
 },
 "nbformat": 4,
 "nbformat_minor": 5
}
